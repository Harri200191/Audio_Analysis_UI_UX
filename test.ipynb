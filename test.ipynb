{
 "cells": [
  {
   "cell_type": "code",
   "execution_count": 5,
   "metadata": {},
   "outputs": [],
   "source": [
    "from gensim.summarization import summarize"
   ]
  },
  {
   "cell_type": "code",
   "execution_count": 7,
   "metadata": {},
   "outputs": [
    {
     "name": "stdout",
     "output_type": "stream",
     "text": [
      "Summary:\n",
      "Once upon a time, in the heart of Europe during the late 15th century, the magnificent city of Florence was abuzz with creativity, innovation, and intellect.\n"
     ]
    }
   ],
   "source": [
    "# Input text to be summarized\n",
    "input_text = \"\"\"\n",
    "Once upon a time, in the heart of Europe during the late 15th century, the magnificent city of Florence was abuzz with creativity, innovation, and intellect. It was a period known as the Renaissance, a golden age of art, science, and culture.\n",
    "\n",
    "At the center of this vibrant city stood the imposing Cathedral of Santa Maria del Fiore, with its iconic dome designed by Filippo Brunelleschi. It was here that our story unfolds.\n",
    "\n",
    "In the year 1476, Florence was captivated by a fierce rivalry between two brilliant minds: Leonardo da Vinci and Michelangelo Buonarroti. Both artists were vying for the prestigious commission to create a monumental fresco depicting the Battle of Anghiari, a historic victory of Florentine forces over their Milanese rivals.\n",
    "\"\"\"\n",
    "\n",
    "# Summarize the input text\n",
    "summary = summarize(input_text)\n",
    "\n",
    "# Print the summarized text\n",
    "print(\"Summary:\")\n",
    "print(summary)\n"
   ]
  },
  {
   "cell_type": "code",
   "execution_count": null,
   "metadata": {},
   "outputs": [],
   "source": []
  }
 ],
 "metadata": {
  "kernelspec": {
   "display_name": "Python 3",
   "language": "python",
   "name": "python3"
  },
  "language_info": {
   "codemirror_mode": {
    "name": "ipython",
    "version": 3
   },
   "file_extension": ".py",
   "mimetype": "text/x-python",
   "name": "python",
   "nbconvert_exporter": "python",
   "pygments_lexer": "ipython3",
   "version": "3.11.4"
  },
  "orig_nbformat": 4
 },
 "nbformat": 4,
 "nbformat_minor": 2
}
