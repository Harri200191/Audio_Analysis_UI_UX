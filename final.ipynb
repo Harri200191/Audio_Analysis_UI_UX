{
 "cells": [
  {
   "cell_type": "code",
   "execution_count": 3,
   "metadata": {},
   "outputs": [],
   "source": [
    "import os \n",
    "import speech_recognition as sr \n",
    "from googletrans import Translator\n",
    "import nltk\n",
    "from nltk.sentiment.vader import SentimentIntensityAnalyzer\n",
    "from transformers import AutoTokenizer, AutoModelForSequenceClassification, AutoModelForSeq2SeqLM\n",
    "from flask import Flask, request, jsonify\n",
    "from flask_cors import CORS\n",
    "from pydub import AudioSegment  \n",
    "from transformers import pipeline\n",
    "import tkinter as tk\n",
    "from tkinter import filedialog\n",
    "from moviepy.editor import VideoFileClip\n",
    "import easygui\n",
    "import shutil"
   ]
  },
  {
   "cell_type": "code",
   "execution_count": 2,
   "metadata": {},
   "outputs": [],
   "source": [
    "def select_and_store_file():\n",
    "    root = tk.Tk()\n",
    "    root.withdraw()  \n",
    "\n",
    "    file_path = filedialog.askopenfilename(filetypes=[(\"Video and Audio Files\", \"*.mp3 *.mp4 *.wav *.flac *.avi *.mkv\")])\n",
    "\n",
    "    if file_path:\n",
    "        with open(file_path, 'rb') as file: \n",
    "            print(f'Selected file: {file_path}')\n",
    "    else:\n",
    "        print(\"No file selected.\")"
   ]
  },
  {
   "cell_type": "code",
   "execution_count": 3,
   "metadata": {},
   "outputs": [],
   "source": [
    "def select_and_store_file():\n",
    "    file_path = easygui.fileopenbox(filetypes=[\"*.mp3 *.mp4 *.wav *.flac *.avi *.mkv\"])\n",
    "\n",
    "    if file_path:\n",
    "        # Determine the file name from the chosen file path\n",
    "        file_name = file_path.split(\"/\")[-1]\n",
    "\n",
    "        # Specify the destination path in the current directory\n",
    "        destination_path = f\"./{file_name}\"\n",
    "\n",
    "        try:\n",
    "            # Copy the selected file to the current directory\n",
    "            shutil.copyfile(file_path, destination_path)\n",
    "\n",
    "            print(f'Selected file copied to current directory: {destination_path}')\n",
    "        except Exception as e:\n",
    "            print(f\"Error copying the file: {str(e)}\")\n",
    "    else:\n",
    "        print(\"No file selected.\")\n",
    "\n",
    "if __name__ == \"__main__\":\n",
    "    select_and_store_file()\n"
   ]
  },
  {
   "cell_type": "code",
   "execution_count": null,
   "metadata": {},
   "outputs": [],
   "source": []
  }
 ],
 "metadata": {
  "kernelspec": {
   "display_name": "Python 3",
   "language": "python",
   "name": "python3"
  },
  "language_info": {
   "codemirror_mode": {
    "name": "ipython",
    "version": 3
   },
   "file_extension": ".py",
   "mimetype": "text/x-python",
   "name": "python",
   "nbconvert_exporter": "python",
   "pygments_lexer": "ipython3",
   "version": "3.11.4"
  },
  "orig_nbformat": 4
 },
 "nbformat": 4,
 "nbformat_minor": 2
}
