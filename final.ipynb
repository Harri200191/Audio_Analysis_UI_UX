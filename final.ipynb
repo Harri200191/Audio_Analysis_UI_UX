{
 "cells": [
  {
   "cell_type": "code",
   "execution_count": 2,
   "metadata": {},
   "outputs": [
    {
     "name": "stdout",
     "output_type": "stream",
     "text": [
      " * Serving Flask app '__main__'\n",
      " * Debug mode: off\n"
     ]
    },
    {
     "name": "stderr",
     "output_type": "stream",
     "text": [
      "WARNING: This is a development server. Do not use it in a production deployment. Use a production WSGI server instead.\n",
      " * Running on http://127.0.0.1:5000\n",
      "Press CTRL+C to quit\n"
     ]
    },
    {
     "name": "stdout",
     "output_type": "stream",
     "text": [
      "./uploads\\final.mp4\n",
      "MoviePy - Writing audio in c:\\Audio_Analysis_UI_UX\\uploads\\output.mp3\n"
     ]
    },
    {
     "name": "stderr",
     "output_type": "stream",
     "text": [
      "127.0.0.1 - - [14/Nov/2023 22:14:07] \"POST /api/convert-video-to-mp3 HTTP/1.1\" 200 -\n"
     ]
    },
    {
     "name": "stdout",
     "output_type": "stream",
     "text": [
      "MoviePy - Done.\n"
     ]
    },
    {
     "name": "stderr",
     "output_type": "stream",
     "text": [
      "127.0.0.1 - - [14/Nov/2023 22:14:10] \"OPTIONS /api/convert-mp4-to-text HTTP/1.1\" 200 -\n"
     ]
    },
    {
     "name": "stdout",
     "output_type": "stream",
     "text": [
      "Proccessing Input........\n",
      "Converting to text........\n"
     ]
    },
    {
     "name": "stderr",
     "output_type": "stream",
     "text": [
      "127.0.0.1 - - [14/Nov/2023 22:14:36] \"POST /api/convert-mp4-to-text HTTP/1.1\" 200 -\n",
      "127.0.0.1 - - [14/Nov/2023 22:14:37] \"GET /api/analyze-audio/why%20I%20was%20elements%20I%20love%20that%20I%20don't%20have%20to%20enemy%20my%20own%20text%20in%20conversations%20in%20After%20Effects%20that's%20a%20lot%20of%20pictures%20unlimited%20download HTTP/1.1\" 200 -\n"
     ]
    },
    {
     "name": "stdout",
     "output_type": "stream",
     "text": [
      "Proccessing Input........\n",
      "Converting to text........\n"
     ]
    },
    {
     "name": "stderr",
     "output_type": "stream",
     "text": [
      "127.0.0.1 - - [14/Nov/2023 22:18:32] \"POST /api/convert-mp3-to-text HTTP/1.1\" 200 -\n",
      "127.0.0.1 - - [14/Nov/2023 22:18:33] \"GET /api/analyze-audio/hello%20again%20in%20this%20video%20we%20will%20use%20speech%20recognition%20module%20to%20extract%20text%20from%20a%20voice%20recorded%20in%20a%20MP3%20file%20the%20main%20steps%20for%20these%20are%20first%20we%20need%20to%20install%20speech%20recognition%20module%20then%20if%20you%20have%20a%20Windows%2010%20machine%20with%20Python%203.8.2%20install%20between%20module%20and%20with%20between%20you%20installed%20by%20also%20after%20this%20we%20can%20import%20and%20initialise%20the%20engine%20with%20MP3%20file%20and%20finally%20extract%20and%20print%20the%20text%20first%20we%20need%20to%20install%20speech%20recognition%20so%20install%20speech%20recognition%20it%20enter%20after%20this%20we%20need%20to%20install%20because%20I%20am%20using%20Windows%2010%20with%20Python%203.6%20install%20to%20install%20NTC%20seats%20with%20me%20close%20the%20terminal%20next%20we%20need%20to%20import%20speech%20underscore%20recognition%20AS%20or%20after%20this%20we%20want%20to%20initialise%20the%20engines%20so%20engine%20is%20equals%20to%20SR%20dot%20recognizer%20the%20next%20part%20is%20reached%20our%20MP3%20file%20let's%20go%20a%20little%20up%20because%20I%20have%20here%20a%20function%20that%20I%20created%20and%20this%20function%20generates%20using%20pyttsx3%20after%20generating%20the%20file%20it%20will%20return%20the%20name%20of%20that%20found%20is%20equals%20to%20generate%20MP3%20file%20name%20the%20source%20then%20we%20want%20to%20say%20something%20to%20the%20end%20user%20so%20we%20print%20string%20that%20the%20file%20is%20being%20analysed%20after%20painting%20dogs%20record%20and%20we%20provide%20the%20source%20now%20let's%20move%20on%20to%20the%20final%20part%20let%20me%20go%20a%20little%20down%20let's%20put%20here%20I%20try%20and%20except%20block%20and%20let's%20declare%20a%20text%20that%20is%20equals%20to%20engine%20parts%20recognise%20underscore%20Google%20and%20we%20provide%20you%20after%20this%20let's%20print%20in%20the%20control%20over%20text%20and%20also%20we%20want%20to%20save%20in%20txt%20file%20so%20open%20we%20provide%20the%20name%20text%20from%20MP3%20txt%20and%20next%20we%20want%20to%20write%20the%20text%20in%20our%20new%20files%20and%20we%20provides%20the%20text%20going%20to%20exception%20block%20here%20and%20explain%20and%20don't%20forget%20that%20you%20can%20download%20the%20source%20code%20also%20don't%20forget%20to%20give%20these%20video%20like%20share%20it%20with%20your%20friends%20subscribe%20and%20activate%20the%20bell%20button%20to%20get%20notifications%20about%20new%20videos%20that%20come%20out%20and%20as%20always%20thank%20you%20for%20watching HTTP/1.1\" 200 -\n"
     ]
    }
   ],
   "source": [
    "import os \n",
    "import speech_recognition as sr \n",
    "from googletrans import Translator\n",
    "import nltk\n",
    "from nltk.sentiment.vader import SentimentIntensityAnalyzer \n",
    "from flask import Flask, request, jsonify\n",
    "from flask_cors import CORS\n",
    "from pydub import AudioSegment  \n",
    "from transformers import pipeline\n",
    "import spacy\n",
    "import moviepy.editor as mp \n",
    "from moviepy.editor import VideoFileClip\n",
    "\n",
    "app = Flask(__name__)\n",
    "CORS(app, origins=\"http://localhost:3000\", supports_credentials=True)\n",
    "\n",
    "nlp = spacy.load(\"en_core_web_sm\")\n",
    "\n",
    "@app.route('/api/analyze-audio/<string:text>', methods=['GET'])\n",
    "def analyze_text(text):\n",
    "    doc = nlp(text) \n",
    "    person_count = len([ent.text for ent in doc.ents if ent.label_ == \"PERSON\"]) \n",
    "    topics = [token.text for token in doc if token.is_alpha and not token.is_stop]\n",
    "    \n",
    "    return jsonify({'person_count' : person_count + 1 , 'topic' : topics[0], 'topic2' : topics[1]})\n",
    " \n",
    "\n",
    "@app.route('/api/convert-video-to-mp3', methods=['POST'])\n",
    "def convert_video_to_mp3():\n",
    "    if 'file' not in request.files:\n",
    "        return jsonify({'error': 'No file provided'}), 400\n",
    "\n",
    "    video_file = request.files['file']\n",
    "    if video_file.filename == '':\n",
    "        return jsonify({'error': 'No selected file'}), 400\n",
    "\n",
    "    if video_file: \n",
    "        try: \n",
    "            video_path = os.path.join('./uploads', video_file.filename)  \n",
    "            print(video_path)\n",
    "            video_file.save(video_path)\n",
    " \n",
    "            audio_path = os.path.abspath('./uploads/output.mp3') \n",
    "            video_clip = VideoFileClip(video_path)\n",
    "            audio_clip = video_clip.audio\n",
    "            audio_clip.write_audiofile(audio_path)\n",
    "            audio_clip.close()\n",
    "            video_clip.close()\n",
    "\n",
    "            return jsonify({'message': 'Video converted to MP3 successfully', 'audio_file': audio_path}), 200\n",
    "        except Exception as e:\n",
    "            return jsonify({'error': 'Conversion error', 'details': str(e)}), 500\n",
    "        \n",
    "def split_audio(input_audio, output_dir, segment_length_ms=60000):\n",
    "    print(\"Proccessing Input........\") \n",
    "    audio = AudioSegment.from_file(input_audio) \n",
    "    total_length_ms = len(audio) \n",
    "    num_segments = total_length_ms // segment_length_ms \n",
    "\n",
    "    for i in range(num_segments):\n",
    "        start_time = i * segment_length_ms\n",
    "        end_time = (i + 1) * segment_length_ms\n",
    "        segment = audio[start_time:end_time] \n",
    "        segment.export(os.path.join(output_dir, f\"segment_{i}.wav\"), format=\"wav\")\n",
    "        \n",
    "    if total_length_ms % segment_length_ms > 0:\n",
    "        start_time = num_segments * segment_length_ms\n",
    "        end_time = total_length_ms\n",
    "        last_segment = audio[start_time:end_time]\n",
    "        last_segment.export(os.path.join(output_dir, f\"segment_{num_segments}.wav\"), format=\"wav\")\n",
    "\n",
    "def transcribe_audio_segments(segment_dir):\n",
    "    print(\"Converting to text........\")\n",
    "    recognizer = sr.Recognizer()\n",
    "    \n",
    "    transcribed_texts = []\n",
    "    \n",
    "    for filename in os.listdir(segment_dir):\n",
    "        if filename.endswith(\".wav\"):\n",
    "            audio_file = os.path.join(segment_dir, filename)\n",
    "            \n",
    "            with sr.AudioFile(audio_file) as source:\n",
    "                audio_text = recognizer.record(source)\n",
    "                text = recognizer.recognize_google(audio_text)\n",
    "                transcribed_texts.append(text)\n",
    "    \n",
    "    return transcribed_texts\n",
    "\n",
    "def join_transcribed_texts(texts):\n",
    "    return \" \".join(texts)\n",
    "\n",
    "\n",
    "@app.route('/api/convert-mp3-to-text', methods=['POST'])\n",
    "def convert_mp3_to_text():\n",
    "    if 'file' not in request.files:\n",
    "        return jsonify({'error': 'No file part'}), 400\n",
    "\n",
    "    file = request.files['file']\n",
    "    if file.filename == '':\n",
    "        return jsonify({'error': 'No selected file'}), 400\n",
    "\n",
    "    if file:\n",
    "        mp3_filename = os.path.join('uploads', file.filename)\n",
    "        file.save(mp3_filename)\n",
    "        segment_dir = 'segments'  \n",
    "        os.makedirs(segment_dir, exist_ok=True)\n",
    "        split_audio(mp3_filename, segment_dir, segment_length_ms=60000)\n",
    "        transcribed_texts = transcribe_audio_segments(segment_dir) \n",
    "        joined_text = join_transcribed_texts(transcribed_texts)\n",
    "\n",
    "        return jsonify({'text': joined_text})\n",
    "\n",
    "        \n",
    "\n",
    "@app.route('/api/convert-mp4-to-text', methods=['POST'])\n",
    "def convert_mp4_to_text():\n",
    "    file = os.path.abspath('./uploads/output.mp3') \n",
    "\n",
    "    if file: \n",
    "        mp3_filename = file\n",
    "        wav_filename = mp3_filename.replace('.mp3', '.wav') \n",
    "        AudioSegment.from_mp3(mp3_filename).export(wav_filename, format=\"wav\")\n",
    "\n",
    "    segment_dir = 'segments'\n",
    "    try:\n",
    "        if not os.path.exists(segment_dir):\n",
    "            os.mkdir(segment_dir)\n",
    "    except Exception as e:\n",
    "        print(f\"Error creating directory: {e}\")\n",
    "\n",
    "    split_audio(wav_filename, segment_dir, segment_length_ms=60000)  \n",
    "    transcribed_texts = transcribe_audio_segments(segment_dir) \n",
    "    joined_text = join_transcribed_texts(transcribed_texts)\n",
    "    return jsonify({'text': joined_text})\n",
    "        \n",
    "if __name__ == '__main__': \n",
    "    app.run(debug=False)"
   ]
  },
  {
   "cell_type": "code",
   "execution_count": null,
   "metadata": {},
   "outputs": [],
   "source": []
  }
 ],
 "metadata": {
  "kernelspec": {
   "display_name": "Python 3",
   "language": "python",
   "name": "python3"
  },
  "language_info": {
   "codemirror_mode": {
    "name": "ipython",
    "version": 3
   },
   "file_extension": ".py",
   "mimetype": "text/x-python",
   "name": "python",
   "nbconvert_exporter": "python",
   "pygments_lexer": "ipython3",
   "version": "3.11.4"
  },
  "orig_nbformat": 4
 },
 "nbformat": 4,
 "nbformat_minor": 2
}
